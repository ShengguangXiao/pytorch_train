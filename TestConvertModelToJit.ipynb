{
 "cells": [
  {
   "cell_type": "code",
   "execution_count": 1,
   "id": "44f486fa-0ef9-45dc-9297-e3a779693a5f",
   "metadata": {},
   "outputs": [
    {
     "name": "stdout",
     "output_type": "stream",
     "text": [
      "PyTorch Version:  1.11.0\n",
      "Torchvision Version:  0.12.0\n"
     ]
    }
   ],
   "source": [
    "import math, os\n",
    "import numpy as np\n",
    "import h5py\n",
    "import matplotlib.pyplot as plt\n",
    "import scipy\n",
    "from PIL import Image\n",
    "from scipy import ndimage\n",
    "import torch\n",
    "import torch.nn as nn\n",
    "from cnn_utils import *\n",
    "from torch import nn,optim\n",
    "from torch.utils.data import DataLoader,Dataset\n",
    "from torchvision import transforms\n",
    "from ClassicNetwork.ResNet import ResNet50"
   ]
  },
  {
   "cell_type": "code",
   "execution_count": 2,
   "id": "98211402",
   "metadata": {},
   "outputs": [
    {
     "name": "stdout",
     "output_type": "stream",
     "text": [
      "{'0': 0, '1': 1, '2': 2, '3': 3, '4': 4, '5': 5, '6': 6, '7': 7, '8': 8, '9': 9, 'A': 10, 'B': 11, 'C': 12, 'D': 13, 'E': 14, 'F': 15, 'G': 16, 'H': 17, 'I': 18, 'J': 19, 'K': 20, 'L': 21, 'M': 22, 'N': 23, 'O': 24, 'P': 25, 'Q': 26, 'R': 27, 'S': 28, 'T': 29, 'U': 30, 'V': 31, 'W': 32, 'X': 33, 'Y': 34, 'Z': 35}\n"
     ]
    }
   ],
   "source": [
    "rmb_label = dict()\n",
    "class_index = 0\n",
    "for i in range(10):\n",
    "    rmb_label[str(i)] = class_index\n",
    "    class_index += 1\n",
    "for i in range (26):\n",
    "    rmb_label[chr(65 + i)] = class_index\n",
    "    class_index += 1\n",
    "print(rmb_label)"
   ]
  },
  {
   "cell_type": "code",
   "execution_count": 3,
   "id": "91e11bec",
   "metadata": {},
   "outputs": [],
   "source": [
    "device = 'cpu'\n",
    "model = ResNet50(num_classes=len(rmb_label), imgsz = 64)\n",
    "model = model.to(device)"
   ]
  },
  {
   "cell_type": "code",
   "execution_count": 8,
   "id": "5bf513c5",
   "metadata": {},
   "outputs": [
    {
     "data": {
      "text/plain": [
       "<All keys matched successfully>"
      ]
     },
     "execution_count": 8,
     "metadata": {},
     "output_type": "execute_result"
    }
   ],
   "source": [
    "loadResult = torch.load(\"./Results/OCR_Gray_Resnet_92.92_epoch_33_v2.pt\")\n",
    "loadResult['model']\n",
    "model.load_state_dict(loadResult['model'])"
   ]
  },
  {
   "cell_type": "code",
   "execution_count": 10,
   "id": "6e558113",
   "metadata": {},
   "outputs": [],
   "source": [
    "example = torch.rand(1, 1, 36, 48)\n",
    "traced_script_module = torch.jit.trace(model, example)\n",
    "traced_script_module.save(\"./Results/OCR_Gray_traced_resnet_model_v2.pt\")"
   ]
  }
 ],
 "metadata": {
  "kernelspec": {
   "display_name": "Python 3 (ipykernel)",
   "language": "python",
   "name": "python3"
  },
  "language_info": {
   "codemirror_mode": {
    "name": "ipython",
    "version": 3
   },
   "file_extension": ".py",
   "mimetype": "text/x-python",
   "name": "python",
   "nbconvert_exporter": "python",
   "pygments_lexer": "ipython3",
   "version": "3.8.9"
  }
 },
 "nbformat": 4,
 "nbformat_minor": 5
}
